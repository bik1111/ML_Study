{
 "cells": [
  {
   "cell_type": "markdown",
   "id": "466824be-cea3-4206-887c-e9157d410005",
   "metadata": {},
   "source": [
    "## Artificial Neural Network"
   ]
  },
  {
   "cell_type": "markdown",
   "id": "c114eb78-eb87-40e6-9109-c8423654229c",
   "metadata": {},
   "source": [
    "## Imprting the LBs"
   ]
  },
  {
   "cell_type": "code",
   "execution_count": 2,
   "id": "0130f6d9-57b8-48d2-b000-1e58111b8fae",
   "metadata": {},
   "outputs": [],
   "source": [
    "import numpy as np\n",
    "import pandas as pd\n",
    "import tensorflow as tf"
   ]
  },
  {
   "cell_type": "code",
   "execution_count": 3,
   "id": "8104859d-3bc2-4535-8928-9de4cc3f5e41",
   "metadata": {},
   "outputs": [
    {
     "data": {
      "text/plain": [
       "'2.15.0'"
      ]
     },
     "execution_count": 3,
     "metadata": {},
     "output_type": "execute_result"
    }
   ],
   "source": [
    "tf.__version__"
   ]
  },
  {
   "cell_type": "markdown",
   "id": "545b645f-94c7-42a2-bef5-9997b001e0ac",
   "metadata": {},
   "source": [
    "## Importing the dataset"
   ]
  },
  {
   "cell_type": "code",
   "execution_count": 6,
   "id": "3dc05493-6ca6-45b1-9572-b17257cbc5a5",
   "metadata": {},
   "outputs": [],
   "source": [
    "dataset = pd.read_csv('Churn_Modelling.csv')\n",
    "X = dataset.iloc[:, 3:-1].values\n",
    "y = dataset.iloc[:, -1].values"
   ]
  },
  {
   "cell_type": "markdown",
   "id": "7e656c12-28be-4f4d-ab26-7408c6a5cbf4",
   "metadata": {},
   "source": [
    "print(X)"
   ]
  },
  {
   "cell_type": "code",
   "execution_count": 8,
   "id": "24876b42-b041-42b9-8b4a-a15c902b5f81",
   "metadata": {},
   "outputs": [
    {
     "name": "stdout",
     "output_type": "stream",
     "text": [
      "[1 0 1 ... 1 1 0]\n"
     ]
    }
   ],
   "source": [
    "print(y)"
   ]
  },
  {
   "cell_type": "markdown",
   "id": "ce4cbdd0-d42c-4426-86d3-cc5c1f4f5fa0",
   "metadata": {},
   "source": [
    "## Encoding categorical data"
   ]
  },
  {
   "cell_type": "markdown",
   "id": "57db03b2-34ed-46e9-af2a-2f0aac12540c",
   "metadata": {},
   "source": [
    "### Label Encoding the \"Gender\" column"
   ]
  },
  {
   "cell_type": "code",
   "execution_count": 9,
   "id": "94cd40a1-3d36-4838-acc0-3777d3a054ec",
   "metadata": {},
   "outputs": [],
   "source": [
    "from sklearn.preprocessing import LabelEncoder\n",
    "le = LabelEncoder()\n",
    "X[:, 2] = le.fit_transform(X[:, 2])"
   ]
  },
  {
   "cell_type": "code",
   "execution_count": 10,
   "id": "1baea7bc-e3cb-4208-805f-6d07fa4184af",
   "metadata": {},
   "outputs": [
    {
     "name": "stdout",
     "output_type": "stream",
     "text": [
      "[[619 'France' 0 ... 1 1 101348.88]\n",
      " [608 'Spain' 0 ... 0 1 112542.58]\n",
      " [502 'France' 0 ... 1 0 113931.57]\n",
      " ...\n",
      " [709 'France' 0 ... 0 1 42085.58]\n",
      " [772 'Germany' 1 ... 1 0 92888.52]\n",
      " [792 'France' 0 ... 1 0 38190.78]]\n"
     ]
    }
   ],
   "source": [
    "print(X)"
   ]
  },
  {
   "cell_type": "markdown",
   "id": "0754fc72-05eb-447f-a622-4ca2c9fa8a7f",
   "metadata": {},
   "source": [
    "### One Hot Encoding the \"Geography\" column"
   ]
  },
  {
   "cell_type": "code",
   "execution_count": 11,
   "id": "c2c975c3-939c-428f-a803-e4ef58fff011",
   "metadata": {},
   "outputs": [],
   "source": [
    "from sklearn.compose import ColumnTransformer\n",
    "from sklearn.preprocessing import OneHotEncoder\n",
    "ct = ColumnTransformer(transformers =[('encoder', OneHotEncoder(), [1])], remainder = 'passthrough')\n",
    "X = np.array(ct.fit_transform(X))"
   ]
  },
  {
   "cell_type": "code",
   "execution_count": 12,
   "id": "1fa8ab49-f414-43f2-841b-faa9a4a2ec20",
   "metadata": {},
   "outputs": [
    {
     "name": "stdout",
     "output_type": "stream",
     "text": [
      "[[1.0 0.0 0.0 ... 1 1 101348.88]\n",
      " [0.0 0.0 1.0 ... 0 1 112542.58]\n",
      " [1.0 0.0 0.0 ... 1 0 113931.57]\n",
      " ...\n",
      " [1.0 0.0 0.0 ... 0 1 42085.58]\n",
      " [0.0 1.0 0.0 ... 1 0 92888.52]\n",
      " [1.0 0.0 0.0 ... 1 0 38190.78]]\n"
     ]
    }
   ],
   "source": [
    "print(X)"
   ]
  },
  {
   "cell_type": "markdown",
   "id": "c6ee1d24-82f8-4190-b40d-f2d31e5cb9d3",
   "metadata": {},
   "source": [
    "## Splitting the dataset into the Training set and Test set "
   ]
  },
  {
   "cell_type": "code",
   "execution_count": 13,
   "id": "06bb1338-d086-4f2d-82f0-77b9f9ce0465",
   "metadata": {},
   "outputs": [],
   "source": [
    "from sklearn.model_selection import train_test_split\n",
    "X_train, X_test, y_train, y_test = train_test_split(X, y, test_size = 0.2, random_state = 0)"
   ]
  },
  {
   "cell_type": "markdown",
   "id": "6c69fb69-1071-4e61-9471-b95ec65d8a21",
   "metadata": {},
   "source": [
    "## Feautre Scaling"
   ]
  },
  {
   "cell_type": "code",
   "execution_count": 14,
   "id": "ce03a414-7d10-4635-988b-c563bb09f756",
   "metadata": {},
   "outputs": [],
   "source": [
    "from sklearn.preprocessing import StandardScaler\n",
    "sc = StandardScaler()\n",
    "X_train = sc.fit_transform(X_train)\n",
    "X_test = sc.transform(X_test)"
   ]
  },
  {
   "cell_type": "markdown",
   "id": "35d2ee71-ff3a-4a9e-b1bc-4a9a3a2f465b",
   "metadata": {},
   "source": [
    "## Building the ANN"
   ]
  },
  {
   "cell_type": "markdown",
   "id": "c60feafd-cbd8-4614-93c5-0c21c811b577",
   "metadata": {},
   "source": [
    "### Initializing the ANN"
   ]
  },
  {
   "cell_type": "code",
   "execution_count": 15,
   "id": "1f539118-c162-4333-a0aa-77dc7d9b3b5a",
   "metadata": {},
   "outputs": [],
   "source": [
    "ann = tf.keras.models.Sequential()"
   ]
  },
  {
   "cell_type": "markdown",
   "id": "7fd055ed-d937-49db-b597-cccad8edaa0a",
   "metadata": {},
   "source": [
    "### Adding the input layer and the first hidden layer"
   ]
  },
  {
   "cell_type": "code",
   "execution_count": 16,
   "id": "7ad02cf0-501a-4ee1-856c-528181533cbe",
   "metadata": {},
   "outputs": [],
   "source": [
    "ann.add(tf.keras.layers.Dense(units=6, activation='relu'))"
   ]
  },
  {
   "cell_type": "markdown",
   "id": "41c4339b-fee5-405e-a7c3-c0e5651c19ed",
   "metadata": {},
   "source": [
    "### Adding the second hidden layer"
   ]
  },
  {
   "cell_type": "code",
   "execution_count": 17,
   "id": "37674d48-8bf9-4812-8d75-1870f6700eb4",
   "metadata": {},
   "outputs": [],
   "source": [
    "ann.add(tf.keras.layers.Dense(units=6, activation='relu')) "
   ]
  },
  {
   "cell_type": "markdown",
   "id": "36e08c65-991e-426d-9c6b-e3e4d456946b",
   "metadata": {},
   "source": [
    "### Adding the output layer"
   ]
  },
  {
   "cell_type": "code",
   "execution_count": 18,
   "id": "7c88b01f-f7f9-472b-b6ee-a29881fcc04c",
   "metadata": {},
   "outputs": [],
   "source": [
    "ann.add(tf.keras.layers.Dense(units=1, activation='sigmoid'))"
   ]
  },
  {
   "cell_type": "markdown",
   "id": "1b129d3b-4d3c-4355-8f54-a9bf310566ae",
   "metadata": {},
   "source": [
    "## Training the ANN"
   ]
  },
  {
   "cell_type": "markdown",
   "id": "c4bbdb94-02e3-40b5-a605-bf50dfe6349f",
   "metadata": {},
   "source": [
    "### Compiling the ANN"
   ]
  },
  {
   "cell_type": "markdown",
   "id": "e96a3e98-cf0d-4ca8-a9b9-34473fce4aab",
   "metadata": {},
   "source": [
    "모델을 컴파일한다는 것은 모델이 학습을 위해 사용할 옵티마이저, 손실 함수, 평가 지표를 지정하는 과정을 말합니다."
   ]
  },
  {
   "cell_type": "code",
   "execution_count": 22,
   "id": "aef401a0-c4a9-47de-afd8-06b059f8b9aa",
   "metadata": {},
   "outputs": [],
   "source": [
    "# Adam은 경사 하강법의 한 종류로, 학습 속도를 조절하면서 최적의 매개변수를 찾아가는 알고리즘\n",
    "# 'binary_crossentropy'는 이진 분류(binary classification) 문제에서 사용하는 손실 함수 중 하나\n",
    "# 'accuracy' : 모델의 정확도를 평가하는 지표입니다. 정확도는 모델이 올바르게 분류한 샘플의 비율을 나타냅니다.\n",
    "ann.compile(optimizer = 'adam', loss = 'binary_crossentropy' , metrics = ['accuracy'])"
   ]
  },
  {
   "cell_type": "markdown",
   "id": "656e6803-33a1-438c-8493-f70934af02cf",
   "metadata": {},
   "source": [
    "### Training the ANN on the Training set"
   ]
  },
  {
   "cell_type": "code",
   "execution_count": 23,
   "id": "cd450dcc-8ee9-4792-ace4-145050da127d",
   "metadata": {},
   "outputs": [
    {
     "name": "stdout",
     "output_type": "stream",
     "text": [
      "Epoch 1/100\n",
      "250/250 [==============================] - 1s 768us/step - loss: 0.5574 - accuracy: 0.7581\n",
      "Epoch 2/100\n",
      "250/250 [==============================] - 0s 583us/step - loss: 0.4777 - accuracy: 0.7959\n",
      "Epoch 3/100\n",
      "250/250 [==============================] - 0s 504us/step - loss: 0.4575 - accuracy: 0.7975\n",
      "Epoch 4/100\n",
      "250/250 [==============================] - 0s 531us/step - loss: 0.4442 - accuracy: 0.8016\n",
      "Epoch 5/100\n",
      "250/250 [==============================] - 0s 612us/step - loss: 0.4368 - accuracy: 0.8023\n",
      "Epoch 6/100\n",
      "250/250 [==============================] - 0s 639us/step - loss: 0.4321 - accuracy: 0.8051\n",
      "Epoch 7/100\n",
      "250/250 [==============================] - 0s 572us/step - loss: 0.4285 - accuracy: 0.8067\n",
      "Epoch 8/100\n",
      "250/250 [==============================] - 0s 526us/step - loss: 0.4248 - accuracy: 0.8069\n",
      "Epoch 9/100\n",
      "250/250 [==============================] - 0s 695us/step - loss: 0.4192 - accuracy: 0.8075\n",
      "Epoch 10/100\n",
      "250/250 [==============================] - 0s 635us/step - loss: 0.4068 - accuracy: 0.8156\n",
      "Epoch 11/100\n",
      "250/250 [==============================] - 0s 896us/step - loss: 0.3918 - accuracy: 0.8301\n",
      "Epoch 12/100\n",
      "250/250 [==============================] - 0s 803us/step - loss: 0.3803 - accuracy: 0.8347\n",
      "Epoch 13/100\n",
      "250/250 [==============================] - 0s 618us/step - loss: 0.3719 - accuracy: 0.8421\n",
      "Epoch 14/100\n",
      "250/250 [==============================] - 0s 600us/step - loss: 0.3657 - accuracy: 0.8465\n",
      "Epoch 15/100\n",
      "250/250 [==============================] - 0s 540us/step - loss: 0.3615 - accuracy: 0.8490\n",
      "Epoch 16/100\n",
      "250/250 [==============================] - 0s 517us/step - loss: 0.3583 - accuracy: 0.8500\n",
      "Epoch 17/100\n",
      "250/250 [==============================] - 0s 526us/step - loss: 0.3562 - accuracy: 0.8516\n",
      "Epoch 18/100\n",
      "250/250 [==============================] - 0s 501us/step - loss: 0.3543 - accuracy: 0.8512\n",
      "Epoch 19/100\n",
      "250/250 [==============================] - 0s 544us/step - loss: 0.3526 - accuracy: 0.8534\n",
      "Epoch 20/100\n",
      "250/250 [==============================] - 0s 552us/step - loss: 0.3514 - accuracy: 0.8536\n",
      "Epoch 21/100\n",
      "250/250 [==============================] - 0s 561us/step - loss: 0.3502 - accuracy: 0.8558\n",
      "Epoch 22/100\n",
      "250/250 [==============================] - 0s 868us/step - loss: 0.3495 - accuracy: 0.8550\n",
      "Epoch 23/100\n",
      "250/250 [==============================] - 0s 512us/step - loss: 0.3485 - accuracy: 0.8546\n",
      "Epoch 24/100\n",
      "250/250 [==============================] - 0s 523us/step - loss: 0.3476 - accuracy: 0.8566\n",
      "Epoch 25/100\n",
      "250/250 [==============================] - 0s 535us/step - loss: 0.3471 - accuracy: 0.8559\n",
      "Epoch 26/100\n",
      "250/250 [==============================] - 0s 561us/step - loss: 0.3464 - accuracy: 0.8564\n",
      "Epoch 27/100\n",
      "250/250 [==============================] - 0s 642us/step - loss: 0.3459 - accuracy: 0.8562\n",
      "Epoch 28/100\n",
      "250/250 [==============================] - 0s 527us/step - loss: 0.3458 - accuracy: 0.8561\n",
      "Epoch 29/100\n",
      "250/250 [==============================] - 0s 570us/step - loss: 0.3452 - accuracy: 0.8580\n",
      "Epoch 30/100\n",
      "250/250 [==============================] - 0s 662us/step - loss: 0.3450 - accuracy: 0.8565\n",
      "Epoch 31/100\n",
      "250/250 [==============================] - 0s 520us/step - loss: 0.3443 - accuracy: 0.8584\n",
      "Epoch 32/100\n",
      "250/250 [==============================] - 0s 538us/step - loss: 0.3440 - accuracy: 0.8555\n",
      "Epoch 33/100\n",
      "250/250 [==============================] - 0s 586us/step - loss: 0.3436 - accuracy: 0.8583\n",
      "Epoch 34/100\n",
      "250/250 [==============================] - 0s 660us/step - loss: 0.3435 - accuracy: 0.8575\n",
      "Epoch 35/100\n",
      "250/250 [==============================] - 0s 514us/step - loss: 0.3432 - accuracy: 0.8583\n",
      "Epoch 36/100\n",
      "250/250 [==============================] - 0s 499us/step - loss: 0.3431 - accuracy: 0.8590\n",
      "Epoch 37/100\n",
      "250/250 [==============================] - 1s 2ms/step - loss: 0.3427 - accuracy: 0.8580\n",
      "Epoch 38/100\n",
      "250/250 [==============================] - 0s 1ms/step - loss: 0.3422 - accuracy: 0.8579\n",
      "Epoch 39/100\n",
      "250/250 [==============================] - 0s 894us/step - loss: 0.3419 - accuracy: 0.8597\n",
      "Epoch 40/100\n",
      "250/250 [==============================] - 0s 798us/step - loss: 0.3421 - accuracy: 0.8604\n",
      "Epoch 41/100\n",
      "250/250 [==============================] - 0s 833us/step - loss: 0.3422 - accuracy: 0.8595\n",
      "Epoch 42/100\n",
      "250/250 [==============================] - 0s 880us/step - loss: 0.3416 - accuracy: 0.8609\n",
      "Epoch 43/100\n",
      "250/250 [==============================] - 0s 615us/step - loss: 0.3416 - accuracy: 0.8580\n",
      "Epoch 44/100\n",
      "250/250 [==============================] - 0s 531us/step - loss: 0.3414 - accuracy: 0.8599\n",
      "Epoch 45/100\n",
      "250/250 [==============================] - 0s 548us/step - loss: 0.3412 - accuracy: 0.8609\n",
      "Epoch 46/100\n",
      "250/250 [==============================] - 0s 555us/step - loss: 0.3412 - accuracy: 0.8597\n",
      "Epoch 47/100\n",
      "250/250 [==============================] - 0s 553us/step - loss: 0.3413 - accuracy: 0.8608\n",
      "Epoch 48/100\n",
      "250/250 [==============================] - 0s 693us/step - loss: 0.3412 - accuracy: 0.8596\n",
      "Epoch 49/100\n",
      "250/250 [==============================] - 0s 630us/step - loss: 0.3408 - accuracy: 0.8602\n",
      "Epoch 50/100\n",
      "250/250 [==============================] - 0s 530us/step - loss: 0.3407 - accuracy: 0.8601\n",
      "Epoch 51/100\n",
      "250/250 [==============================] - 0s 623us/step - loss: 0.3405 - accuracy: 0.8618\n",
      "Epoch 52/100\n",
      "250/250 [==============================] - 0s 668us/step - loss: 0.3408 - accuracy: 0.8591\n",
      "Epoch 53/100\n",
      "250/250 [==============================] - 0s 652us/step - loss: 0.3405 - accuracy: 0.8619\n",
      "Epoch 54/100\n",
      "250/250 [==============================] - 0s 920us/step - loss: 0.3404 - accuracy: 0.8601\n",
      "Epoch 55/100\n",
      "250/250 [==============================] - 0s 755us/step - loss: 0.3401 - accuracy: 0.8610\n",
      "Epoch 56/100\n",
      "250/250 [==============================] - 0s 570us/step - loss: 0.3401 - accuracy: 0.8610\n",
      "Epoch 57/100\n",
      "250/250 [==============================] - 0s 505us/step - loss: 0.3404 - accuracy: 0.8606\n",
      "Epoch 58/100\n",
      "250/250 [==============================] - 0s 577us/step - loss: 0.3399 - accuracy: 0.8604\n",
      "Epoch 59/100\n",
      "250/250 [==============================] - 0s 545us/step - loss: 0.3400 - accuracy: 0.8615\n",
      "Epoch 60/100\n",
      "250/250 [==============================] - 0s 607us/step - loss: 0.3399 - accuracy: 0.8614\n",
      "Epoch 61/100\n",
      "250/250 [==============================] - 0s 593us/step - loss: 0.3396 - accuracy: 0.8606\n",
      "Epoch 62/100\n",
      "250/250 [==============================] - 0s 518us/step - loss: 0.3398 - accuracy: 0.8606\n",
      "Epoch 63/100\n",
      "250/250 [==============================] - 0s 755us/step - loss: 0.3396 - accuracy: 0.8595\n",
      "Epoch 64/100\n",
      "250/250 [==============================] - 0s 706us/step - loss: 0.3398 - accuracy: 0.8610\n",
      "Epoch 65/100\n",
      "250/250 [==============================] - 0s 551us/step - loss: 0.3393 - accuracy: 0.8605\n",
      "Epoch 66/100\n",
      "250/250 [==============================] - 0s 565us/step - loss: 0.3392 - accuracy: 0.8601\n",
      "Epoch 67/100\n",
      "250/250 [==============================] - 0s 516us/step - loss: 0.3395 - accuracy: 0.8601\n",
      "Epoch 68/100\n",
      "250/250 [==============================] - 0s 624us/step - loss: 0.3389 - accuracy: 0.8602\n",
      "Epoch 69/100\n",
      "250/250 [==============================] - 0s 573us/step - loss: 0.3387 - accuracy: 0.8620\n",
      "Epoch 70/100\n",
      "250/250 [==============================] - 0s 548us/step - loss: 0.3388 - accuracy: 0.8611\n",
      "Epoch 71/100\n",
      "250/250 [==============================] - 0s 587us/step - loss: 0.3382 - accuracy: 0.8616\n",
      "Epoch 72/100\n",
      "250/250 [==============================] - 0s 616us/step - loss: 0.3387 - accuracy: 0.8609\n",
      "Epoch 73/100\n",
      "250/250 [==============================] - 0s 596us/step - loss: 0.3381 - accuracy: 0.8616\n",
      "Epoch 74/100\n",
      "250/250 [==============================] - 0s 676us/step - loss: 0.3383 - accuracy: 0.8600\n",
      "Epoch 75/100\n",
      "250/250 [==============================] - 0s 596us/step - loss: 0.3379 - accuracy: 0.8606\n",
      "Epoch 76/100\n",
      "250/250 [==============================] - 0s 584us/step - loss: 0.3378 - accuracy: 0.8620\n",
      "Epoch 77/100\n",
      "250/250 [==============================] - 0s 512us/step - loss: 0.3377 - accuracy: 0.8599\n",
      "Epoch 78/100\n",
      "250/250 [==============================] - 0s 654us/step - loss: 0.3379 - accuracy: 0.8601\n",
      "Epoch 79/100\n",
      "250/250 [==============================] - 0s 548us/step - loss: 0.3377 - accuracy: 0.8610\n",
      "Epoch 80/100\n",
      "250/250 [==============================] - 0s 565us/step - loss: 0.3374 - accuracy: 0.8599\n",
      "Epoch 81/100\n",
      "250/250 [==============================] - 0s 617us/step - loss: 0.3375 - accuracy: 0.8616\n",
      "Epoch 82/100\n",
      "250/250 [==============================] - 0s 577us/step - loss: 0.3376 - accuracy: 0.8599\n",
      "Epoch 83/100\n",
      "250/250 [==============================] - 0s 546us/step - loss: 0.3376 - accuracy: 0.8604\n",
      "Epoch 84/100\n",
      "250/250 [==============================] - 0s 547us/step - loss: 0.3371 - accuracy: 0.8611\n",
      "Epoch 85/100\n",
      "250/250 [==============================] - 0s 634us/step - loss: 0.3370 - accuracy: 0.8610\n",
      "Epoch 86/100\n",
      "250/250 [==============================] - 0s 521us/step - loss: 0.3369 - accuracy: 0.8601\n",
      "Epoch 87/100\n",
      "250/250 [==============================] - 0s 538us/step - loss: 0.3370 - accuracy: 0.8594\n",
      "Epoch 88/100\n",
      "250/250 [==============================] - 0s 575us/step - loss: 0.3366 - accuracy: 0.8604\n",
      "Epoch 89/100\n",
      "250/250 [==============================] - 0s 630us/step - loss: 0.3367 - accuracy: 0.8610\n",
      "Epoch 90/100\n",
      "250/250 [==============================] - 0s 525us/step - loss: 0.3365 - accuracy: 0.8600\n",
      "Epoch 91/100\n",
      "250/250 [==============================] - 0s 905us/step - loss: 0.3367 - accuracy: 0.8596\n",
      "Epoch 92/100\n",
      "250/250 [==============================] - 0s 2ms/step - loss: 0.3363 - accuracy: 0.8625\n",
      "Epoch 93/100\n",
      "250/250 [==============================] - 0s 689us/step - loss: 0.3363 - accuracy: 0.8631\n",
      "Epoch 94/100\n",
      "250/250 [==============================] - 0s 529us/step - loss: 0.3365 - accuracy: 0.8611\n",
      "Epoch 95/100\n",
      "250/250 [==============================] - 0s 521us/step - loss: 0.3361 - accuracy: 0.8605\n",
      "Epoch 96/100\n",
      "250/250 [==============================] - 0s 527us/step - loss: 0.3360 - accuracy: 0.8604\n",
      "Epoch 97/100\n",
      "250/250 [==============================] - 0s 564us/step - loss: 0.3359 - accuracy: 0.8615\n",
      "Epoch 98/100\n",
      "250/250 [==============================] - 0s 519us/step - loss: 0.3361 - accuracy: 0.8606\n",
      "Epoch 99/100\n",
      "250/250 [==============================] - 0s 675us/step - loss: 0.3362 - accuracy: 0.8595\n",
      "Epoch 100/100\n",
      "250/250 [==============================] - 0s 600us/step - loss: 0.3362 - accuracy: 0.8596\n"
     ]
    },
    {
     "data": {
      "text/plain": [
       "<keras.src.callbacks.History at 0x15b08f610>"
      ]
     },
     "execution_count": 23,
     "metadata": {},
     "output_type": "execute_result"
    }
   ],
   "source": [
    "# 배치 크기는 한 번의 반복(에폭)에서 사용할 샘플의 개수를 의미\n",
    "# 에폭은 전체 훈련 데이터셋을 한 번 모델에 보여준 것을 말합니다. \n",
    "# 따라서 이 매개변수는 전체 훈련 데이터셋을 몇 번 반복하여 모델을 훈련할지를 결정합니다.\n",
    "ann.fit(X_train, y_train, batch_size = 32, epochs = 100)"
   ]
  },
  {
   "cell_type": "markdown",
   "id": "97b06c18-e71a-4484-959b-83339d939fa1",
   "metadata": {},
   "source": [
    "## Making the predictions and evaluating the model"
   ]
  },
  {
   "cell_type": "markdown",
   "id": "536b35b0-3eee-4668-a09d-d0eff4e94681",
   "metadata": {},
   "source": [
    "### Predicting the result of a single observation"
   ]
  },
  {
   "cell_type": "markdown",
   "id": "ca85a4e4-f2dc-4268-86b7-b77c4510e77c",
   "metadata": {},
   "source": [
    "**Homework**\n",
    "\n",
    "Use our ANN model to predict if the customer with the following informations will leave the bank: \n",
    "\n",
    "Geography: France\n",
    "\n",
    "Credit Score: 600\n",
    "\n",
    "Gender: Male\n",
    "\n",
    "Age: 40 years old\n",
    "\n",
    "Tenure: 3 years\n",
    "\n",
    "Balance: \\$ 60000\n",
    "\n",
    "Number of Products: 2\n",
    "\n",
    "Does this customer have a credit card ? Yes\n",
    "\n",
    "Is this customer an Active Member: Yes\n",
    "\n",
    "Estimated Salary: \\$ 50000\n",
    "\n",
    "So, should we say goodbye to that customer ?"
   ]
  },
  {
   "cell_type": "code",
   "execution_count": 26,
   "id": "fbe907e3-d343-49d4-8cdf-8278b3f604f2",
   "metadata": {},
   "outputs": [
    {
     "name": "stdout",
     "output_type": "stream",
     "text": [
      "1/1 [==============================] - 0s 28ms/step\n",
      "[[False]]\n"
     ]
    }
   ],
   "source": [
    "print(ann.predict(sc.transform([[1, 0, 0, 600, 1, 40, 3, 60000, 2, 1, 1, 50000]])) > 0.5)"
   ]
  },
  {
   "cell_type": "markdown",
   "id": "5e509f0a-b1d0-4c7a-a6c4-0765da81b551",
   "metadata": {},
   "source": [
    "## Predicting the Test set results"
   ]
  },
  {
   "cell_type": "code",
   "execution_count": 29,
   "id": "631d9d55-ef10-48d4-862e-d90dfdae45fc",
   "metadata": {},
   "outputs": [
    {
     "name": "stdout",
     "output_type": "stream",
     "text": [
      "63/63 [==============================] - 0s 1ms/step\n",
      "[[0 0]\n",
      " [0 1]\n",
      " [0 0]\n",
      " ...\n",
      " [0 0]\n",
      " [0 0]\n",
      " [0 0]]\n"
     ]
    }
   ],
   "source": [
    "y_pred = ann.predict(X_test)\n",
    "y_pred = (y_pred > 0.5)\n",
    "print(np.concatenate((y_pred.reshape(len(y_pred),1), y_test.reshape(len(y_test), 1)), 1))"
   ]
  },
  {
   "cell_type": "markdown",
   "id": "835889ef-36f4-4e74-9d11-1c126ea20e99",
   "metadata": {},
   "source": [
    "## Making the Confusion Matrix"
   ]
  },
  {
   "cell_type": "code",
   "execution_count": 30,
   "id": "05bcf285-c9dd-4af6-9573-2f0829094fd3",
   "metadata": {},
   "outputs": [
    {
     "name": "stdout",
     "output_type": "stream",
     "text": [
      "[[1536   59]\n",
      " [ 212  193]]\n"
     ]
    },
    {
     "data": {
      "text/plain": [
       "0.8645"
      ]
     },
     "execution_count": 30,
     "metadata": {},
     "output_type": "execute_result"
    }
   ],
   "source": [
    "from sklearn.metrics import confusion_matrix, accuracy_score\n",
    "cm = confusion_matrix(y_test, y_pred)\n",
    "print(cm)\n",
    "accuracy_score(y_test, y_pred)"
   ]
  },
  {
   "cell_type": "code",
   "execution_count": null,
   "id": "f736f6b8-ab53-4705-be1c-4e850ea87f67",
   "metadata": {},
   "outputs": [],
   "source": []
  }
 ],
 "metadata": {
  "kernelspec": {
   "display_name": "Python 3 (ipykernel)",
   "language": "python",
   "name": "python3"
  },
  "language_info": {
   "codemirror_mode": {
    "name": "ipython",
    "version": 3
   },
   "file_extension": ".py",
   "mimetype": "text/x-python",
   "name": "python",
   "nbconvert_exporter": "python",
   "pygments_lexer": "ipython3",
   "version": "3.11.6"
  }
 },
 "nbformat": 4,
 "nbformat_minor": 5
}
